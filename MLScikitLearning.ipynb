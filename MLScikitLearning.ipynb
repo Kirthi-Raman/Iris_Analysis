{
 "cells": [
  {
   "cell_type": "code",
   "execution_count": 1,
   "metadata": {},
   "outputs": [],
   "source": [
    "#import library\n",
    "import sklearn"
   ]
  },
  {
   "cell_type": "code",
   "execution_count": 2,
   "metadata": {},
   "outputs": [
    {
     "name": "stdout",
     "output_type": "stream",
     "text": [
      "[1]\n"
     ]
    }
   ],
   "source": [
    "# define details \n",
    "from sklearn import tree\n",
    "\n",
    "features = [[140,1],[130,1],[160,0],[170,0]]\n",
    "labels = [0,0,1,1]\n",
    "clf = tree.DecisionTreeClassifier()\n",
    "clf = clf.fit(features,labels)\n",
    "print (clf.predict([[160,0]]))"
   ]
  },
  {
   "cell_type": "code",
   "execution_count": 3,
   "metadata": {},
   "outputs": [
    {
     "name": "stdout",
     "output_type": "stream",
     "text": [
      "['sepal length (cm)', 'sepal width (cm)', 'petal length (cm)', 'petal width (cm)']\n",
      "['setosa' 'versicolor' 'virginica']\n",
      "sepal length (cm)\n",
      "setosa\n",
      "[5.1 3.5 1.4 0.2]\n",
      "0\n",
      "Example 0: label 0, feature [5.1 3.5 1.4 0.2]\n",
      "Example 1: label 0, feature [4.9 3.  1.4 0.2]\n",
      "Example 2: label 0, feature [4.7 3.2 1.3 0.2]\n",
      "Example 3: label 0, feature [4.6 3.1 1.5 0.2]\n",
      "Example 4: label 0, feature [5.  3.6 1.4 0.2]\n"
     ]
    }
   ],
   "source": [
    "# Iris flower dataset classifier\n",
    "import graphviz\n",
    "from sklearn.datasets import load_iris\n",
    "iris = load_iris()\n",
    "print (iris.feature_names)\n",
    "print (iris.target_names)\n",
    "print (iris.feature_names[0])\n",
    "print (iris.target_names[0])\n",
    "print (iris.data[0])\n",
    "print (iris.target[0])\n",
    "\n",
    "#for i in range(len(iris.target)):\n",
    "for i in range(5):\n",
    "    print (\"Example %d: label %s, feature %s\" % (i, iris.target[i],iris.data[i]))\n"
   ]
  },
  {
   "cell_type": "code",
   "execution_count": 6,
   "metadata": {},
   "outputs": [
    {
     "name": "stdout",
     "output_type": "stream",
     "text": [
      "[0 1 2]\n",
      "[0 1 2]\n"
     ]
    }
   ],
   "source": [
    "import numpy as np\n",
    "from sklearn.datasets import load_iris\n",
    "from sklearn import tree\n",
    "\n",
    "iris = load_iris()\n",
    "test_idx = [0,50,100]\n",
    "\n",
    "#training data\n",
    "train_target = np.delete(iris.target, test_idx)\n",
    "train_data = np.delete(iris.data, test_idx, axis=0)\n",
    "\n",
    "#test data\n",
    "test_target = iris.target[test_idx]\n",
    "test_data = iris.data[test_idx]\n",
    "\n",
    "\n",
    "clf = tree.DecisionTreeClassifier()\n",
    "clf.fit(train_data, train_target)\n",
    "# this trains the classifier\n",
    "\n",
    "print (test_target)\n",
    "print (clf.predict(test_data))\n",
    "\n",
    "#from sklearn.externals.six import StringIO\n",
    "#import pydot\n",
    "#dot_data = tree.export_graphviz(clf, out_file=None, \n",
    "#                         feature_names=iris.feature_names,  \n",
    "#                         class_names=iris.target_names,  \n",
    "#                         filled=True, rounded=True,  \n",
    "#                         special_characters=True)  \n",
    "#graph = graphviz.Source(dot_data)  \n",
    "#graph.write_pdf(\"iris pdf\")\n"
   ]
  },
  {
   "cell_type": "code",
   "execution_count": 7,
   "metadata": {},
   "outputs": [
    {
     "name": "stdout",
     "output_type": "stream",
     "text": [
      "[0 2 2 0 1 2 1 0 1 1 1 2 2 0 2 1 0 1 1 0 2 0 2 1 2 2 0 0 0 1 2 2 0 1 2 2 2\n",
      " 2 1 1 1 1 2 1 0 0 0 2 1 2 2 2 1 2 0 2 2 1 2 1 0 2 1 0 0 2 1 1 1 0 0 0 1 2\n",
      " 0]\n",
      "0.96\n"
     ]
    }
   ],
   "source": [
    "#iris dataset as pipeline\n",
    "\n",
    "from sklearn import datasets\n",
    "iris = datasets.load_iris()\n",
    "\n",
    "X = iris.data\n",
    "y = iris.target\n",
    "\n",
    "from sklearn.cross_validation import train_test_split\n",
    "X_train, X_test, y_train, y_test = train_test_split(X,y,test_size =.5)\n",
    "\n",
    "#from sklearn import tree\n",
    "#my_classifier = tree.DecisionTreeClassifier()\n",
    "\n",
    "from sklearn.neighbors import KNeighborsClassifier\n",
    "my_classifier = KNeighborsClassifier()\n",
    "\n",
    "my_classifier.fit(X_train, y_train)\n",
    "\n",
    "predictions = my_classifier.predict(X_test)\n",
    "print (predictions)\n",
    "\n",
    "from sklearn.metrics import accuracy_score\n",
    "print(accuracy_score(y_test,predictions))\n"
   ]
  },
  {
   "cell_type": "code",
   "execution_count": 23,
   "metadata": {},
   "outputs": [
    {
     "name": "stdout",
     "output_type": "stream",
     "text": [
      "0.9733333333333334\n"
     ]
    }
   ],
   "source": [
    "#first classifier\n",
    "##import random\n",
    "from scipy.spatial import distance\n",
    "\n",
    "def euc(a,b):\n",
    "    return distance.euclidean(a,b)\n",
    "\n",
    "class ScrappyKNN():\n",
    "    def fit(self, X_train, y_train):\n",
    "        self.X_train = X_train\n",
    "        self.y_train = y_train\n",
    "    \n",
    "    def predict(self, X_test):\n",
    "        predictions = []\n",
    "        \n",
    "        for row in X_test:\n",
    "            ##label = random.choice(self.y_train)\n",
    "            label = self.closest(row)\n",
    "            predictions.append(label)\n",
    "            #print (predictions)\n",
    "        return predictions\n",
    "            \n",
    "    def closest(self,row):\n",
    "        best_dist = euc(row, X_train[0])\n",
    "        best_index = 0\n",
    "        for i in range(1,len(self.X_train)):\n",
    "            dist = euc(row, self.X_train[i])\n",
    "            if dist < best_dist:\n",
    "                best_dist = dist\n",
    "                best_index = i\n",
    "        return self.y_train[best_index]\n",
    "\n",
    "from sklearn import datasets\n",
    "iris = datasets.load_iris()\n",
    "\n",
    "X = iris.data\n",
    "y = iris.target\n",
    "\n",
    "from sklearn.cross_validation import train_test_split\n",
    "X_train, X_test, y_train, y_test = train_test_split(X,y,test_size = .5)\n",
    "\n",
    "#from sklearn.neighbors import KNeighborsClassifier\n",
    "#my_classifier = KNeighborsClassifier()\n",
    "\n",
    "my_classifier = ScrappyKNN()\n",
    "\n",
    "my_classifier.fit(X_train, y_train)\n",
    "\n",
    "predictions = my_classifier.predict(X_test)\n",
    "#print(predictions)\n",
    "\n",
    "from sklearn.metrics import accuracy_score\n",
    "print(accuracy_score(y_test,predictions))\n"
   ]
  },
  {
   "cell_type": "code",
   "execution_count": null,
   "metadata": {},
   "outputs": [],
   "source": []
  },
  {
   "cell_type": "code",
   "execution_count": null,
   "metadata": {},
   "outputs": [],
   "source": []
  }
 ],
 "metadata": {
  "kernelspec": {
   "display_name": "Python 3",
   "language": "python",
   "name": "python3"
  },
  "language_info": {
   "codemirror_mode": {
    "name": "ipython",
    "version": 3
   },
   "file_extension": ".py",
   "mimetype": "text/x-python",
   "name": "python",
   "nbconvert_exporter": "python",
   "pygments_lexer": "ipython3",
   "version": "3.6.4"
  }
 },
 "nbformat": 4,
 "nbformat_minor": 2
}
